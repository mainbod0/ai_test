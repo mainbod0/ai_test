{
 "cells": [
  {
   "cell_type": "markdown",
   "id": "8e9f87bf-6b3c-4915-93cf-b111f9d29ce9",
   "metadata": {},
   "source": [
    "<font size=6><b>lec03. 머신러닝 기초"
   ]
  },
  {
   "cell_type": "code",
   "execution_count": 1,
   "id": "e5eeeacf-6cfd-4257-b0ae-a56f37bec757",
   "metadata": {},
   "outputs": [],
   "source": [
    "import numpy as np\n",
    "import pandas as pd\n",
    "import matplotlib.pyplot as plt\n",
    "import seaborn as sns\n",
    "\n",
    "# ------------------------------------------------------\n",
    "from sklearn.datasets import load_iris\n",
    "from sklearn.model_selection import train_test_split\n",
    "from sklearn.preprocessing import StandardScaler, MinMaxScaler, RobustScaler\n",
    "from sklearn.tree import DecisionTreeClassifier\n",
    "# ------------------------------------------------------\n",
    "\n",
    "import warnings\n",
    "warnings.filterwarnings(action=\"ignore\")"
   ]
  },
  {
   "cell_type": "markdown",
   "id": "5d2ec379-5a7a-448a-8e8f-3f6f8882d760",
   "metadata": {},
   "source": [
    "# Data Load\n",
    "* df.info()\n",
    "* df.shape\n",
    "* df.head()"
   ]
  },
  {
   "cell_type": "code",
   "execution_count": 2,
   "id": "ef097c34-f095-413c-bdb4-360093af0e8f",
   "metadata": {},
   "outputs": [
    {
     "data": {
      "text/plain": [
       "dict_keys(['data', 'target', 'frame', 'target_names', 'DESCR', 'feature_names', 'filename', 'data_module'])"
      ]
     },
     "execution_count": 2,
     "metadata": {},
     "output_type": "execute_result"
    }
   ],
   "source": [
    "data = load_iris()\n",
    "data.keys()"
   ]
  },
  {
   "cell_type": "code",
   "execution_count": 3,
   "id": "76f56bf6-8915-4b1f-9e3e-ffd27c4060ac",
   "metadata": {},
   "outputs": [
    {
     "data": {
      "text/html": [
       "<div>\n",
       "<style scoped>\n",
       "    .dataframe tbody tr th:only-of-type {\n",
       "        vertical-align: middle;\n",
       "    }\n",
       "\n",
       "    .dataframe tbody tr th {\n",
       "        vertical-align: top;\n",
       "    }\n",
       "\n",
       "    .dataframe thead th {\n",
       "        text-align: right;\n",
       "    }\n",
       "</style>\n",
       "<table border=\"1\" class=\"dataframe\">\n",
       "  <thead>\n",
       "    <tr style=\"text-align: right;\">\n",
       "      <th></th>\n",
       "      <th>sl</th>\n",
       "      <th>sw</th>\n",
       "      <th>pl</th>\n",
       "      <th>pw</th>\n",
       "      <th>target</th>\n",
       "    </tr>\n",
       "  </thead>\n",
       "  <tbody>\n",
       "    <tr>\n",
       "      <th>0</th>\n",
       "      <td>5.1</td>\n",
       "      <td>3.5</td>\n",
       "      <td>1.4</td>\n",
       "      <td>0.2</td>\n",
       "      <td>0</td>\n",
       "    </tr>\n",
       "    <tr>\n",
       "      <th>1</th>\n",
       "      <td>4.9</td>\n",
       "      <td>3.0</td>\n",
       "      <td>1.4</td>\n",
       "      <td>0.2</td>\n",
       "      <td>0</td>\n",
       "    </tr>\n",
       "    <tr>\n",
       "      <th>2</th>\n",
       "      <td>4.7</td>\n",
       "      <td>3.2</td>\n",
       "      <td>1.3</td>\n",
       "      <td>0.2</td>\n",
       "      <td>0</td>\n",
       "    </tr>\n",
       "    <tr>\n",
       "      <th>3</th>\n",
       "      <td>4.6</td>\n",
       "      <td>3.1</td>\n",
       "      <td>1.5</td>\n",
       "      <td>0.2</td>\n",
       "      <td>0</td>\n",
       "    </tr>\n",
       "    <tr>\n",
       "      <th>4</th>\n",
       "      <td>5.0</td>\n",
       "      <td>3.6</td>\n",
       "      <td>1.4</td>\n",
       "      <td>0.2</td>\n",
       "      <td>0</td>\n",
       "    </tr>\n",
       "  </tbody>\n",
       "</table>\n",
       "</div>"
      ],
      "text/plain": [
       "    sl   sw   pl   pw  target\n",
       "0  5.1  3.5  1.4  0.2       0\n",
       "1  4.9  3.0  1.4  0.2       0\n",
       "2  4.7  3.2  1.3  0.2       0\n",
       "3  4.6  3.1  1.5  0.2       0\n",
       "4  5.0  3.6  1.4  0.2       0"
      ]
     },
     "execution_count": 3,
     "metadata": {},
     "output_type": "execute_result"
    }
   ],
   "source": [
    "df = pd.DataFrame(data=data[\"data\"], columns=data[\"feature_names\"] )  #index=[]\n",
    "df.columns = [\"sl\",\"sw\",\"pl\",\"pw\"]\n",
    "df['target'] = data[\"target\"]\n",
    "df.head()"
   ]
  },
  {
   "cell_type": "code",
   "execution_count": 4,
   "id": "a9903a67-a9e2-4588-886c-9329af2748c8",
   "metadata": {},
   "outputs": [
    {
     "name": "stdout",
     "output_type": "stream",
     "text": [
      "<class 'pandas.core.frame.DataFrame'>\n",
      "RangeIndex: 150 entries, 0 to 149\n",
      "Data columns (total 5 columns):\n",
      " #   Column  Non-Null Count  Dtype  \n",
      "---  ------  --------------  -----  \n",
      " 0   sl      150 non-null    float64\n",
      " 1   sw      150 non-null    float64\n",
      " 2   pl      150 non-null    float64\n",
      " 3   pw      150 non-null    float64\n",
      " 4   target  150 non-null    int32  \n",
      "dtypes: float64(4), int32(1)\n",
      "memory usage: 5.4 KB\n"
     ]
    }
   ],
   "source": [
    "df.info()"
   ]
  },
  {
   "cell_type": "code",
   "execution_count": 5,
   "id": "726c6719-7499-4a6f-aa47-19d755a9a52f",
   "metadata": {},
   "outputs": [
    {
     "data": {
      "text/plain": [
       "(150, 5)"
      ]
     },
     "execution_count": 5,
     "metadata": {},
     "output_type": "execute_result"
    }
   ],
   "source": [
    "df.shape"
   ]
  },
  {
   "cell_type": "markdown",
   "id": "e2aa92f3-4c12-4db3-b0f0-9e61170e6d2a",
   "metadata": {},
   "source": [
    "# EDA"
   ]
  },
  {
   "cell_type": "code",
   "execution_count": 6,
   "id": "8bb871fa-2b9b-4c02-b904-1df08a1eeb3f",
   "metadata": {
    "scrolled": true
   },
   "outputs": [
    {
     "data": {
      "image/png": "[encoded data removed]",
      "text/plain": [
       "<Figure size 640x480 with 6 Axes>"
      ]
     },
     "metadata": {},
     "output_type": "display_data"
    }
   ],
   "source": [
    "df.hist()\n",
    "plt.tight_layout()\n",
    "plt.show()"
   ]
  },
  {
   "cell_type": "code",
   "execution_count": 7,
   "id": "e6bd1827-cb87-405c-9612-26007c19e47f",
   "metadata": {
    "scrolled": true
   },
   "outputs": [
    {
     "data": {
      "text/plain": [
       "array([0, 0, 0, 0, 0, 0, 0, 0, 0, 0, 0, 0, 0, 0, 0, 0, 0, 0, 0, 0, 0, 0,\n",
       "       0, 0, 0, 0, 0, 0, 0, 0, 0, 0, 0, 0, 0, 0, 0, 0, 0, 0, 0, 0, 0, 0,\n",
       "       0, 0, 0, 0, 0, 0, 1, 1, 1, 1, 1, 1, 1, 1, 1, 1, 1, 1, 1, 1, 1, 1,\n",
       "       1, 1, 1, 1, 1, 1, 1, 1, 1, 1, 1, 1, 1, 1, 1, 1, 1, 1, 1, 1, 1, 1,\n",
       "       1, 1, 1, 1, 1, 1, 1, 1, 1, 1, 1, 1, 2, 2, 2, 2, 2, 2, 2, 2, 2, 2,\n",
       "       2, 2, 2, 2, 2, 2, 2, 2, 2, 2, 2, 2, 2, 2, 2, 2, 2, 2, 2, 2, 2, 2,\n",
       "       2, 2, 2, 2, 2, 2, 2, 2, 2, 2, 2, 2, 2, 2, 2, 2, 2, 2])"
      ]
     },
     "execution_count": 7,
     "metadata": {},
     "output_type": "execute_result"
    }
   ],
   "source": [
    "data[\"target\"]"
   ]
  },
  {
   "cell_type": "markdown",
   "id": "41abfd1e-a306-469a-96b2-b5a4b2b9f66e",
   "metadata": {},
   "source": [
    "# 학습 & 예측 & 평가"
   ]
  },
  {
   "cell_type": "code",
   "execution_count": 8,
   "id": "ac3d151c-d55f-4232-acbc-50e75402f8d1",
   "metadata": {},
   "outputs": [
    {
     "data": {
      "text/html": [
       "<div>\n",
       "<style scoped>\n",
       "    .dataframe tbody tr th:only-of-type {\n",
       "        vertical-align: middle;\n",
       "    }\n",
       "\n",
       "    .dataframe tbody tr th {\n",
       "        vertical-align: top;\n",
       "    }\n",
       "\n",
       "    .dataframe thead th {\n",
       "        text-align: right;\n",
       "    }\n",
       "</style>\n",
       "<table border=\"1\" class=\"dataframe\">\n",
       "  <thead>\n",
       "    <tr style=\"text-align: right;\">\n",
       "      <th></th>\n",
       "      <th>sl</th>\n",
       "      <th>sw</th>\n",
       "      <th>pl</th>\n",
       "      <th>pw</th>\n",
       "      <th>target</th>\n",
       "    </tr>\n",
       "  </thead>\n",
       "  <tbody>\n",
       "    <tr>\n",
       "      <th>0</th>\n",
       "      <td>5.1</td>\n",
       "      <td>3.5</td>\n",
       "      <td>1.4</td>\n",
       "      <td>0.2</td>\n",
       "      <td>0</td>\n",
       "    </tr>\n",
       "    <tr>\n",
       "      <th>1</th>\n",
       "      <td>4.9</td>\n",
       "      <td>3.0</td>\n",
       "      <td>1.4</td>\n",
       "      <td>0.2</td>\n",
       "      <td>0</td>\n",
       "    </tr>\n",
       "    <tr>\n",
       "      <th>2</th>\n",
       "      <td>4.7</td>\n",
       "      <td>3.2</td>\n",
       "      <td>1.3</td>\n",
       "      <td>0.2</td>\n",
       "      <td>0</td>\n",
       "    </tr>\n",
       "  </tbody>\n",
       "</table>\n",
       "</div>"
      ],
      "text/plain": [
       "    sl   sw   pl   pw  target\n",
       "0  5.1  3.5  1.4  0.2       0\n",
       "1  4.9  3.0  1.4  0.2       0\n",
       "2  4.7  3.2  1.3  0.2       0"
      ]
     },
     "execution_count": 8,
     "metadata": {},
     "output_type": "execute_result"
    }
   ],
   "source": [
    "df.head(3)"
   ]
  },
  {
   "cell_type": "markdown",
   "id": "75c7403c-e5d4-46c0-962d-af36c97d4d16",
   "metadata": {},
   "source": [
    "## train, test 분리\n",
    "* train_test_split( 문제지 , 답안지 , test_size=0.2,   train_size=0.8)"
   ]
  },
  {
   "cell_type": "code",
   "execution_count": 9,
   "id": "6f4ac1b1-0326-41d0-94fd-23f7d2caa7bc",
   "metadata": {},
   "outputs": [
    {
     "data": {
      "text/plain": [
       "((120, 4), (30, 4), (120,), (30,))"
      ]
     },
     "execution_count": 9,
     "metadata": {},
     "output_type": "execute_result"
    }
   ],
   "source": [
    "y답안지 = df['target']\n",
    "X문제지 = df.drop(['target'], axis=1)\n",
    "\n",
    "X_train문제지8, X_test문제지2,     y_train답안지8, y_test답안지2 = train_test_split( X문제지 , y답안지 , test_size=0.2, random_state=1211)\n",
    "X_train문제지8.shape, X_test문제지2.shape,     y_train답안지8.shape, y_test답안지2.shape"
   ]
  },
  {
   "cell_type": "markdown",
   "id": "f07c382b-dded-4918-bf7a-452e16e5680e",
   "metadata": {},
   "source": [
    "## 학습"
   ]
  },
  {
   "cell_type": "markdown",
   "id": "6dcc7c45-9b79-4663-9bfc-fd28f1464e1e",
   "metadata": {},
   "source": [
    "``` python\n",
    "class sklearn.tree.DecisionTreeClassifier(*, \n",
    "random_state=None,                                             \n",
    "#--------------------- hyper-parameter\n",
    "criterion='gini',                                         \n",
    "max_depth=None, min_samples_split=2, min_samples_leaf=1, max_leaf_nodes=None,\n",
    "#---------------------\n",
    "splitter='best', \n",
    "min_weight_fraction_leaf=0.0, max_features=None, min_impurity_decrease=0.0, class_weight=None, ccp_alpha=0.0)[source]\n",
    "```"
   ]
  },
  {
   "cell_type": "code",
   "execution_count": 10,
   "id": "87ffdf3a-b84c-4586-89b9-b30cc0b89f3f",
   "metadata": {},
   "outputs": [
    {
     "data": {
      "text/html": [
       "<style>#sk-container-id-1 {color: black;}#sk-container-id-1 pre{padding: 0;}#sk-container-id-1 div.sk-toggleable {background-color: white;}#sk-container-id-1 label.sk-toggleable__label {cursor: pointer;display: block;width: 100%;margin-bottom: 0;padding: 0.3em;box-sizing: border-box;text-align: center;}#sk-container-id-1 label.sk-toggleable__label-arrow:before {content: \"▸\";float: left;margin-right: 0.25em;color: #696969;}#sk-container-id-1 label.sk-toggleable__label-arrow:hover:before {color: black;}#sk-container-id-1 div.sk-estimator:hover label.sk-toggleable__label-arrow:before {color: black;}#sk-container-id-1 div.sk-toggleable__content {max-height: 0;max-width: 0;overflow: hidden;text-align: left;background-color: #f0f8ff;}#sk-container-id-1 div.sk-toggleable__content pre {margin: 0.2em;color: black;border-radius: 0.25em;background-color: #f0f8ff;}#sk-container-id-1 input.sk-toggleable__control:checked~div.sk-toggleable__content {max-height: 200px;max-width: 100%;overflow: auto;}#sk-container-id-1 input.sk-toggleable__control:checked~label.sk-toggleable__label-arrow:before {content: \"▾\";}#sk-container-id-1 div.sk-estimator input.sk-toggleable__control:checked~label.sk-toggleable__label {background-color: #d4ebff;}#sk-container-id-1 div.sk-label input.sk-toggleable__control:checked~label.sk-toggleable__label {background-color: #d4ebff;}#sk-container-id-1 input.sk-hidden--visually {border: 0;clip: rect(1px 1px 1px 1px);clip: rect(1px, 1px, 1px, 1px);height: 1px;margin: -1px;overflow: hidden;padding: 0;position: absolute;width: 1px;}#sk-container-id-1 div.sk-estimator {font-family: monospace;background-color: #f0f8ff;border: 1px dotted black;border-radius: 0.25em;box-sizing: border-box;margin-bottom: 0.5em;}#sk-container-id-1 div.sk-estimator:hover {background-color: #d4ebff;}#sk-container-id-1 div.sk-parallel-item::after {content: \"\";width: 100%;border-bottom: 1px solid gray;flex-grow: 1;}#sk-container-id-1 div.sk-label:hover label.sk-toggleable__label {background-color: #d4ebff;}#sk-container-id-1 div.sk-serial::before {content: \"\";position: absolute;border-left: 1px solid gray;box-sizing: border-box;top: 0;bottom: 0;left: 50%;z-index: 0;}#sk-container-id-1 div.sk-serial {display: flex;flex-direction: column;align-items: center;background-color: white;padding-right: 0.2em;padding-left: 0.2em;position: relative;}#sk-container-id-1 div.sk-item {position: relative;z-index: 1;}#sk-container-id-1 div.sk-parallel {display: flex;align-items: stretch;justify-content: center;background-color: white;position: relative;}#sk-container-id-1 div.sk-item::before, #sk-container-id-1 div.sk-parallel-item::before {content: \"\";position: absolute;border-left: 1px solid gray;box-sizing: border-box;top: 0;bottom: 0;left: 50%;z-index: -1;}#sk-container-id-1 div.sk-parallel-item {display: flex;flex-direction: column;z-index: 1;position: relative;background-color: white;}#sk-container-id-1 div.sk-parallel-item:first-child::after {align-self: flex-end;width: 50%;}#sk-container-id-1 div.sk-parallel-item:last-child::after {align-self: flex-start;width: 50%;}#sk-container-id-1 div.sk-parallel-item:only-child::after {width: 0;}#sk-container-id-1 div.sk-dashed-wrapped {border: 1px dashed gray;margin: 0 0.4em 0.5em 0.4em;box-sizing: border-box;padding-bottom: 0.4em;background-color: white;}#sk-container-id-1 div.sk-label label {font-family: monospace;font-weight: bold;display: inline-block;line-height: 1.2em;}#sk-container-id-1 div.sk-label-container {text-align: center;}#sk-container-id-1 div.sk-container {/* jupyter's `normalize.less` sets `[hidden] { display: none; }` but bootstrap.min.css set `[hidden] { display: none !important; }` so we also need the `!important` here to be able to override the default hidden behavior on the sphinx rendered scikit-learn.org. See: https://github.com/scikit-learn/scikit-learn/issues/21755 */display: inline-block !important;position: relative;}#sk-container-id-1 div.sk-text-repr-fallback {display: none;}</style><div id=\"sk-container-id-1\" class=\"sk-top-container\"><div class=\"sk-text-repr-fallback\"><pre>DecisionTreeClassifier(random_state=111)</pre><b>In a Jupyter environment, please rerun this cell to show the HTML representation or trust the notebook. <br />On GitHub, the HTML representation is unable to render, please try loading this page with nbviewer.org.</b></div><div class=\"sk-container\" hidden><div class=\"sk-item\"><div class=\"sk-estimator sk-toggleable\"><input class=\"sk-toggleable__control sk-hidden--visually\" id=\"sk-estimator-id-1\" type=\"checkbox\" checked><label for=\"sk-estimator-id-1\" class=\"sk-toggleable__label sk-toggleable__label-arrow\">DecisionTreeClassifier</label><div class=\"sk-toggleable__content\"><pre>DecisionTreeClassifier(random_state=111)</pre></div></div></div></div></div>"
      ],
      "text/plain": [
       "DecisionTreeClassifier(random_state=111)"
      ]
     },
     "execution_count": 10,
     "metadata": {},
     "output_type": "execute_result"
    }
   ],
   "source": [
    "model = DecisionTreeClassifier(random_state=111, min_samples_split=2)\n",
    "model.fit( X_train문제지8,   y_train답안지8  )   # 학습 : 문제지 답지"
   ]
  },
  {
   "cell_type": "markdown",
   "id": "fe3aa29d-5ea5-4eea-b760-28fb7dc9f172",
   "metadata": {},
   "source": [
    "# 평가\n",
    "* ref : https://scikit-learn.org/stable/modules/model_evaluation.html"
   ]
  },
  {
   "cell_type": "markdown",
   "id": "e117a97c-c66b-4f33-8bd4-c0be03ecd5d2",
   "metadata": {},
   "source": [
    "<table class=\"docutils align-default\" width=100%>\r\n",
    "<thead>\r\n",
    "<tr class=\"row-odd\"><th class=\"head\"><p>Scoring</p></th>\r\n",
    "<th class=\"head\"><p>Function</p></th>\r\n",
    "<th class=\"head\"><p>Comment</p></th>\r\n",
    "</tr>\r\n",
    "</thead>\r\n",
    "<tbody>\r\n",
    "<tr class=\"row-even\"><td><p><strong>Classification</strong></p></td>\r\n",
    "<td></td>\r\n",
    "<td></td>\r\n",
    "</tr>\r\n",
    "<tr class=\"row-odd\"><td><p>‘accuracy’</p></td>\r\n",
    "<td><p><a class=\"reference internal\" href=\"generated/sklearn.metrics.accuracy_score.html#sklearn.metrics.accuracy_score\" title=\"sklearn.metrics.accuracy_score\"><code class=\"xref py py-func docutils literal notranslate\"><span class=\"pre\">metrics.accuracy_score</span></code></a></p></td>\r\n",
    "<</a></p></td>\r\n",
    "<td></td>\r\n",
    "</tr>\r\n",
    "<tr class=\"row-even\"><td><p>‘f1’</p></td>\r\n",
    "<td><p><a class=\"reference internal\" href=\"generated/sklearn.metrics.f1_score.html#sklearn.metrics.f1_score\" title=\"sklearn.metrics.f1_score\"><code class=\"xref py py-func docutils literal notranslate\"><span class=\"pre\">metrics.f1_score</span></code></a></p></td>\r\n",
    "<td><p>for binary targets</p></td>\r\n",
    "</tr>\r\n",
    "<tr class=\"row-odd\"><td><p>‘f1_micro’</p></td>\r\n",
    "<td><p><a class=\"reference internal\" href=\"generated/sklearn.metrics.f1_score.html#sklearn.metrics.f1_score\" title=\"sklearn.metrics.f1_score\"><code class=\"xref py py-func docutils literal notranslate\"><span class=\"pre\">metrics.f1_score</span></code></a></p></td>\r\n",
    "<td><p>micro-averaged</p></td>\r\n",
    "</tr>\r\n",
    "<tr class=\"row-even\"><td><p>‘f1_macro’</p></td>\r\n",
    "<td><p><a class=\"reference internal\" href=\"generated/sklearn.metrics.f1_score.html#sklearn.metrics.f1_score\" title=\"sklearn.metrics.f1_score\"><code class=\"xref py py-func docutils literal notranslate\"><span class=\"pre\">metrics.f1_score</span></code></a></p></td>\r\n",
    "<td><p>macro-averaged</p></td>\r\n",
    "</tr>\r\n",
    "<tr class=\"row-odd\"><td><p>‘f1_weighted’</p></td>\r\n",
    "<td><p><a class=\"reference internal\" href=\"generated/sklearn.metrics.f1_score.html#sklearn.metrics.f1_score\" title=\"sklearn.metrics.f1_score\"><code class=\"xref py py-func docutils literal notranslate\"><span class=\"pre\">metrics.f1_score</span></code></a></p></td>\r\n",
    "<td><p>weighted average</p></td>\r\n",
    "</tr>\r\n",
    "<tr class=\"row-even\"><td><p>‘f1_samples’</p></td>\r\n",
    "<td><p><a class=\"reference internal\" href=\"generated/sklearn.metrics.f1_score.html#sklearn.metrics.f1_score\" title=\"sklearn.metrics.f1_score\"><code class=\"xref py py-func docutils literal notranslate\"><span class=\"pre\">metrics.f1_score</span></code></a></p></td>\r\n",
    "<td><p>by multilabel sample</p></td>\r\n",
    "</tr>\r\n",
    "<tr class=\"row-odd\"><td><p>‘neg_log_loss’</p></td>\r\n",
    "<td><p><a class=\"reference internal\" href=\"generated/sklearn.metrics.log_loss.html#sklearn.metrics.log_loss\" title=\"sklearn.metrics.log_loss\"><code class=\"xref py py-func docutils literal notranslate\"><span class=\"pre\">metrics.log_loss</span></code></a></p></td>\r\n",
    "<td><p>requires <code class=\"docutils literal notranslate\"><span class=\"pre\">predict_proba</span></code> support</p></td>\r\n",
    "</tr>\r\n",
    "<tr class=\"row-even\"><td><p>‘precision’ etc.</p></td>\r\n",
    "<td><p><a class=\"reference internal\" href=\"generated/sklearn.metrics.precision_score.html#sklearn.metrics.precision_score\" title=\"sklearn.metrics.precision_score\"><code class=\"xref py py-func docutils literal notranslate\"><span class=\"pre\">metrics.precision_score</span></code></a></p></td>\r\n",
    "<td><p>suffixes apply as with ‘f1’</p></td>\r\n",
    "</tr>\r\n",
    "<tr class=\"row-odd\"><td><p>‘recall’ etc.</p></td>\r\n",
    "<td><p><a class=\"reference internal\" href=\"generated/sklearn.metrics.recall_score.html#sklearn.metrics.recall_score\" title=\"sklearn.metrics.recall_score\"><code class=\"xref py py-func docutils literal notranslate\"><span class=\"pre\">metrics.recall_score</span></code></a></a></p></td>\r\n",
    "<td><p>suffixes apply as with ‘f1’</p></td>\r\n",
    "</tr>\r\n",
    "<tr class=\"row-odd\"><td><p>‘roc_auc’</p></td>\r\n",
    "<td><p><a class=\"reference internal\" href=\"generated/sklearn.metrics.roc_auc_score.html#sklearn.metrics.roc_auc_score\" title=\"sklearn.metrics.roc_auc_score\"><code class=\"xref py py-func docutils literal notranslate\"><span class=\"pre\">metrics.roc_auc_score</span></code></a></p></td>\r\n",
    "<td></td>\r\n",
    "</tr>\r\n",
    "<tr class=\"row-even\"><td><p>‘roc_auc_ovr’</p></td>\r\n",
    "<td><p><a class=\"reference internal\" href=\"generated/sklearn.metrics.roc_auc_score.html#sklearn.metrics.roc_auc_score\" title=\"sklearn.metrics.roc_auc_score\"><code class=\"xref py py-func docutils literal notranslate\"><span class=\"pre\">metrics.roc_auc_score</span></code></a></p></td>\r\n",
    "<td></td>\r\n",
    "</tr>\r\n",
    "<tr class=\"row-odd\"><td><p>‘roc_auc_ovo’</p></td>\r\n",
    "<td><p><a class=\"reference internal\" href=\"generated/sklearn.metrics.roc_auc_score.html#sklearn.metrics.roc_auc_score\" title=\"sklearn.metrics.roc_auc_score\"><code class=\"xref py py-func docutils literal notranslate\"><span class=\"pre\">metrics.roc_auc_score</span></code></a></p></td>\r\n",
    "<td></td>\r\n",
    "</tr>\r\n",
    "<tr class=\"row-even\"><td><p>‘roc_auc_ovr_weighted’</p></td>\r\n",
    "<td><p><a class=\"reference internal\" href=\"generated/sklearn.metrics.roc_auc_score.html#sklearn.metrics.roc_auc_score\" title=\"sklearn.metrics.roc_auc_score\"><code class=\"xref py py-func docutils literal notranslate\"><span class=\"pre\">metrics.roc_auc_score</span></code></a></p></td>\r\n",
    "<td></td>\r\n",
    "</tr>\r\n",
    "<tr class=\"row-odd\"><td><p>‘roc_auc_ovo_weighted’</p></td>\r\n",
    "<td><p><a class=\"reference internal\" href=\"generated/sklearn.metrics.roc_auc_score.html#sklearn.metrics.roc_auc_score\" title=\"sklearn.metrics.roc_auc_score\"><code class=\"xref py py-func docutils literal notranslattitle=\"sklearn.metrics.d2_tweedie_score\"><code class=\"xref py py-func docutils literal notranslate\"><span class=\"pre\">metrics.d2_tweedie_score</span></code></a></p></td>\r\n",
    "<td></td>\r\n",
    "</tr>\r\n",
    "</tbody>\r\n",
    "</table>"
   ]
  },
  {
   "cell_type": "markdown",
   "id": "e686cc47-d427-422e-9161-bd9df861b351",
   "metadata": {},
   "source": [
    "<pre>\n",
    "<font size=4 color=red><b>\n",
    "* accuracy        (정확도)\n",
    "\n",
    "* precision_score (정밀도)   -- macro micro\n",
    "* recall_score    (재현률)   -- macro micro\n",
    "* f1_score                  -- macro micro\n",
    "\n",
    "* roc_auc_score             -- ovo  ovr"
   ]
  },
  {
   "cell_type": "code",
   "execution_count": 11,
   "id": "81ef5a26-2a08-4e7c-b454-b91affd29192",
   "metadata": {},
   "outputs": [],
   "source": [
    "from sklearn.metrics import accuracy_score\n",
    "from sklearn.metrics import precision_score, recall_score, f1_score, roc_auc_score \n",
    "from sklearn.metrics import confusion_matrix,classification_report"
   ]
  },
  {
   "cell_type": "code",
   "execution_count": 12,
   "id": "3ecccd3a-ce28-4c18-afd7-5a0d8e294417",
   "metadata": {},
   "outputs": [
    {
     "data": {
      "text/plain": [
       "0.9666666666666667"
      ]
     },
     "execution_count": 12,
     "metadata": {},
     "output_type": "execute_result"
    }
   ],
   "source": [
    "예측답안지 = model.predict( X_test문제지2)  \n",
    "accuracy_score(y_test답안지2,  예측답안지)"
   ]
  },
  {
   "cell_type": "markdown",
   "id": "3a6baf0d-59a3-492d-b762-f731546a458e",
   "metadata": {},
   "source": [
    "## 오답체크"
   ]
  },
  {
   "cell_type": "code",
   "execution_count": 13,
   "id": "b88e8e45-f272-47e1-850a-bf3c6cb0913e",
   "metadata": {},
   "outputs": [
    {
     "data": {
      "text/html": [
       "<div>\n",
       "<style scoped>\n",
       "    .dataframe tbody tr th:only-of-type {\n",
       "        vertical-align: middle;\n",
       "    }\n",
       "\n",
       "    .dataframe tbody tr th {\n",
       "        vertical-align: top;\n",
       "    }\n",
       "\n",
       "    .dataframe thead th {\n",
       "        text-align: right;\n",
       "    }\n",
       "</style>\n",
       "<table border=\"1\" class=\"dataframe\">\n",
       "  <thead>\n",
       "    <tr style=\"text-align: right;\">\n",
       "      <th></th>\n",
       "      <th>y</th>\n",
       "      <th>pred</th>\n",
       "    </tr>\n",
       "  </thead>\n",
       "  <tbody>\n",
       "    <tr>\n",
       "      <th>106</th>\n",
       "      <td>2</td>\n",
       "      <td>1</td>\n",
       "    </tr>\n",
       "  </tbody>\n",
       "</table>\n",
       "</div>"
      ],
      "text/plain": [
       "     y  pred\n",
       "106  2     1"
      ]
     },
     "execution_count": 13,
     "metadata": {},
     "output_type": "execute_result"
    }
   ],
   "source": [
    "check_df = pd.DataFrame( columns=[\"y\",\"pred\"])\n",
    "check_df[\"y\"]    =  y_test답안지2\n",
    "check_df[\"pred\"] = 예측답안지\n",
    "# check_df.head()\n",
    "check_df[check_df[\"y\"] != check_df[\"pred\"]]"
   ]
  },
  {
   "cell_type": "code",
   "execution_count": 14,
   "id": "aa4f35ac-9f5f-493c-892c-6bdd86b120fc",
   "metadata": {
    "scrolled": true
   },
   "outputs": [
    {
     "name": "stdout",
     "output_type": "stream",
     "text": [
      "[[ 9  0  0]\n",
      " [ 0 13  0]\n",
      " [ 0  1  7]]\n"
     ]
    }
   ],
   "source": [
    "# y축(실제답안) \n",
    "# x축(예측답안) \n",
    "print(  confusion_matrix(y_test답안지2,  예측답안지)  )"
   ]
  },
  {
   "cell_type": "markdown",
   "id": "a2735968-6465-4a39-a95e-443e0d8d84c2",
   "metadata": {},
   "source": [
    "<pre>\n",
    "정밀도(precision)\n",
    "    암이(P)라고 예측 --> 실제 암(P)\n",
    "\tTP / (TP+FP)   :  FP가 중요\n",
    "\tFP : 예측암      --> 실제정상\n",
    "\t\t 스팸메일분류기\n",
    "재현률(recall)  \n",
    "    실제 암(P)         --> 암이(P)라고 예측\n",
    "    TP / (TP+FN)   :  FN이 중요\n",
    " \tFN : 실제암--예측정상\n",
    "\t     암환자예측,화재감지,사기범죄탐지\n",
    "\n",
    "가설&검정\n",
    "귀무가설 : 일반적사실 (실제로참인데 귀무가설을 기각)\n",
    "대립가설 : 검정하고자 하는 사실\n",
    "     * Type 1(1종)오류 : (귀무가설이 참인데 귀무가설을 기각)\n",
    "                         False Positive(FP)  = 거짓양성 =  α에러 = Type1에러\n",
    "                         실제 음성(N)인데 --> 양성(N)으로 예측 실수!!!!\n",
    "     * Type 2(2종)오류 :  (귀무가설이 거짓인데 귀무가설을 채택)\n",
    "                         False Negative(FN)  = 거짓음성 =   β에러 = Type2에러\n",
    "\t                     실제 양성(P)인데 --> 음성(N)으로 예측 실수!!!!\n",
    "정밀도(precision) : 암이(P)라고 예측 --> 실제 암(P)\n",
    "\t\tTP / (TP+FP)   :  FP\n",
    "\t\tFP : 예측암 --> 실제정상\n",
    "\t\t스팸메일분류기\n",
    "재현률(recall)      : 실제 암(P)         --> 암이(P)라고 예측\n",
    "                           TP / (TP+FN)   :  FN\n",
    " \t\tFN : 실제암--예측정상\n",
    "\t\t암환자예측,화재감지,사기범죄탐지\n",
    "가설&검정\n",
    "귀무가설 : 일반적사실 (실제로참인데 귀무가설을 기각)\n",
    "대림가설 : 검정하고자 하는 사실\n",
    "     * Type 1(1종)오류 : (귀무가설이 참인데 귀무가설을 기각)\n",
    "                   False Positive(FP)  = 거짓양성 =  α에러 = Type1에러\n",
    "                   실제 음성(N)인데 --> 양성(N)으로 예측 실수!!!!\n",
    "     * Type 2(2종)오류 :  (귀무가설이 거짓인데 귀무가설을 채택)\n",
    "                   False Negative(FN)  = 거짓음성 =   β에러 = Type2에러\n",
    "\t     실제 양성(P)인데 --> 음성(N)으로 예측 실수!!!!                "
   ]
  },
  {
   "cell_type": "markdown",
   "id": "afda1a71-b0c0-4d5a-9116-2663ff508beb",
   "metadata": {},
   "source": [
    "## confusion_matrix(혼돈행렬)\n",
    "* <img src=\"https://velog.velcdn.com/images%2Fhajeongjj%2Fpost%2F31affec5-a47b-4ff0-b07d-73943729dbc3%2Fimage.png\" width=800>"
   ]
  },
  {
   "cell_type": "markdown",
   "id": "275c0562-53da-4ca8-a003-e026afa75174",
   "metadata": {},
   "source": [
    "<img src=\"https://docs.microsoft.com/en-us/dynamics365/finance/finance-insights/media/payment-prediction-matrix-2.png\" width=600>"
   ]
  },
  {
   "cell_type": "markdown",
   "id": "58a1cc6b-15cc-40fd-9da6-e505ee62138a",
   "metadata": {},
   "source": [
    "<table style=\"border-collapse: collapse; width: 805px; box-sizing: border-box; border-spacing: 0px; max-width: 100%;\" border=\"0\" width=\"805\" cellspacing=\"0\" cellpadding=\"0\" data-ke-align=\"alignLeft\"><colgroup><col style=\"width: 221pt;\" width=\"294\"> <col style=\"mso-width-source: userset; mso-width-alt: 6619; width: 136pt;\" width=\"181\"> <col style=\"width: 221pt;\" width=\"294\"> </colgroup>\n",
    "<tbody>\n",
    "<tr style=\"height: 15.0pt; box-sizing: border-box;\">\n",
    "<td class=\"xl63\" style=\"height: 20px; width: 154px; border: 1px solid #8c8c8c;\" width=\"294\" height=\"20\"><span>용어</span></td>\n",
    "<td class=\"xl63\" style=\"border-left: none; width: 88px; border-bottom: 1px solid #8c8c8c; border-right: 1px solid #8c8c8c; border-top: 1px solid #8c8c8c; height: 20px;\" width=\"181\"><span>산출식</span></td>\n",
    "<td class=\"xl63\" style=\"border-left: none; width: 296px; border-bottom: 1px solid #8c8c8c; border-top: 1px solid #8c8c8c; border-right: 1px solid #8c8c8c; height: 20px;\" width=\"294\"><span>설명</span></td>\n",
    "<td class=\"xl63\" style=\"border-left: none; width: 239px; border-bottom: 1px solid #8c8c8c; border-top: 1px solid #8c8c8c; border-right: 1px solid #8c8c8c; height: 20px;\" colspan=\"1\" width=\"294\"><span>&nbsp;예</span></td>\n",
    "</tr>\n",
    "    \n",
    "<tr style=\"height: 15.0pt; box-sizing: border-box;\">\n",
    "<td class=\"xl64\" style=\"height: 35px; border-top: none; width: 154px; box-sizing: border-box; border-bottom: 1px solid #8c8c8c; border-right: 1px solid #8c8c8c; border-left: 1px solid #8c8c8c;\" width=\"294\" height=\"20\">Accuracy </td>\n",
    "<td class=\"xl64\" style=\"border-top: none; border-left: none; width: 88px; box-sizing: border-box; border-bottom: 1px solid #8c8c8c; border-right: 1px solid #8c8c8c; height: 35px;\" width=\"181\"><b>(TP+TN)/(TP+TN+FP+FN)</b></td>\n",
    "<td class=\"xl65\" style=\"border-top: none; border-left: none; width: 296px; box-sizing: border-box; border-bottom: 1px solid #8c8c8c; border-right: 1px solid #8c8c8c; height: 35px;\" width=\"294\">탐지율 : 맞게 예측한 비율</td>\n",
    "<td class=\"xl65\" style=\"border-top: none; border-left: none; width: 239px; box-sizing: border-box; border-bottom: 1px solid #8c8c8c; border-right: 1px solid #8c8c8c; height: 35px;\" colspan=\"1\" width=\"294\"><span>실제 악성/정상인지 맞게 예측한 비율</span></td>\n",
    "</tr>\n",
    "    \n",
    "<tr style=\"height: 15.0pt; box-sizing: border-box;\">\n",
    "<td class=\"xl64\" style=\"height: 20px; border-top: none; width: 154px; box-sizing: border-box; border-bottom: 1px solid #8c8c8c; border-right: 1px solid #8c8c8c; border-left: 1px solid #8c8c8c;\" width=\"294\" height=\"20\">Precision <font size=5 color=red><b> ↓↓ </b></font></td>\n",
    "<td class=\"xl64\" style=\"border-top: none; border-left: none; width: 88px; box-sizing: border-box; border-bottom: 1px solid #8c8c8c; border-right: 1px solid #8c8c8c; height: 20px;\" width=\"181\"><b>TP/(TP+FP)</b></td>\n",
    "<td class=\"xl65\" style=\"border-top: none; border-left: none; width: 296px; box-sizing: border-box; border-bottom: 1px solid #8c8c8c; border-right: 1px solid #8c8c8c; height: 20px;\" width=\"294\"><span>정확도&nbsp;: P로 예측한 것중 실제P의 비율</span></td>\n",
    "<td class=\"xl65\" style=\"border-top: none; border-left: none; width: 239px; box-sizing: border-box; border-bottom: 1px solid #8c8c8c; border-right: 1px solid #8c8c8c; height: 20px;\" colspan=\"1\" width=\"294\"><span>악성으로 예측한것 중 실제 악성인 샘플의 비율</span></td>\n",
    "</tr>\n",
    "    \n",
    "<tr style=\"height: 15.0pt; box-sizing: border-box;\">\n",
    "<td class=\"xl64\" style=\"height: 20px; border-top: none; width: 154px; box-sizing: border-box; border-bottom: 1px solid #8c8c8c; border-right: 1px solid #8c8c8c; border-left: 1px solid #8c8c8c;\" width=\"294\" height=\"20\">Recall <font size=5 color=red><b> →→ </b></font></td>\n",
    "<td class=\"xl64\" style=\"border-top: none; border-left: none; width: 88px; box-sizing: border-box; border-bottom: 1px solid #8c8c8c; border-right: 1px solid #8c8c8c; height: 20px;\" width=\"181\"><b>TP/(TP+FN)</b></td>\n",
    "<td class=\"xl65\" style=\"border-top: none; border-left: none; width: 296px; box-sizing: border-box; border-bottom: 1px solid #8c8c8c; border-right: 1px solid #8c8c8c; height: 20px;\" width=\"294\"><span>재현율 : 실제 P를 P로 예측한 비율</span></td>\n",
    "<td class=\"xl65\" style=\"border-top: none; border-left: none; width: 239px; box-sizing: border-box; border-bottom: 1px solid #8c8c8c; border-right: 1px solid #8c8c8c; height: 20px;\" colspan=\"1\" width=\"294\"><span>실제 악성 샘플 중 악성으로 예측한 비율</span></td>\n",
    "</tr>\n",
    "\n",
    "    \n",
    "<tr style=\"height: 15.0pt; box-sizing: border-box;\">\n",
    "<td class=\"xl64\" style=\"height: 15pt; border-top: none; width: 154px; box-sizing: border-box; border-bottom: 1px solid #8c8c8c; border-right: 1px solid #8c8c8c; border-left: 1px solid #8c8c8c;\" width=\"294\" height=\"20\">TPR<span>&nbsp;(True Positive Rate)&nbsp;</span><span>= Recall</span>  <font size=5 color=red><b> →→ </b></font> </td>\n",
    "<td class=\"xl64\" style=\"border-top: none; border-left: none; width: 88px; box-sizing: border-box; border-bottom: 1px solid #8c8c8c; border-right: 1px solid #8c8c8c;\" width=\"181\"><b>TP/(TP+FN)</b></td>\n",
    "<td class=\"xl65\" style=\"border-top: none; border-left: none; width: 296px; border-bottom: 1px solid #8c8c8c; border-right: 1px solid #8c8c8c;\" width=\"294\"><span>민감도(Sensitivity) : 예측과 실제 모두 P&nbsp;</span></td>\n",
    "<td class=\"xl65\" style=\"border-top: none; border-left: none; width: 239px; border-bottom: 1px solid #8c8c8c; border-right: 1px solid #8c8c8c;\" colspan=\"1\" width=\"294\"><span>실제 악성 샘플을 악성으로 예측한 비율</span></td>\n",
    "</tr>\n",
    "\n",
    "<tr style=\"height: 15.0pt; box-sizing: border-box;\">\n",
    "<td class=\"xl64\" style=\"height: 35px; border-top: none; width: 154px; box-sizing: border-box; border-bottom: 1px solid #8c8c8c; border-right: 1px solid #8c8c8c; border-left: 1px solid #8c8c8c;\" width=\"294\" height=\"20\">Fall-out<font size=5 color=red><b> → </b></font></td>\n",
    "<td class=\"xl64\" style=\"border-top: none; border-left: none; width: 88px; box-sizing: border-box; border-bottom: 1px solid #8c8c8c; border-right: 1px solid #8c8c8c; height: 35px;\" width=\"181\"><b>FP/(FP+TN)</b></td>\n",
    "<td class=\"xl65\" style=\"border-top: none; border-left: none; width: 296px; box-sizing: border-box; border-bottom: 1px solid #8c8c8c; border-right: 1px solid #8c8c8c; height: 35px;\" width=\"294\">오예측율 : 실제 N을 P로 예측한 비율</td>\n",
    "<td class=\"xl65\" style=\"border-top: none; border-left: none; width: 239px; box-sizing: border-box; border-bottom: 1px solid #8c8c8c; border-right: 1px solid #8c8c8c; height: 35px;\" colspan=\"1\" width=\"294\"><span>실제 정상 샘플을 악성으로 예측한 비율</span></td>\n",
    "</tr>    \n",
    "    \n",
    "<tr style=\"height: 15.0pt; box-sizing: border-box;\">\n",
    "<td class=\"xl64\" style=\"height: 15pt; border-top: none; width: 154px; box-sizing: border-box; border-bottom: 1px solid #8c8c8c; border-right: 1px solid #8c8c8c; border-left: 1px solid #8c8c8c;\" width=\"294\" height=\"20\">FPR<span>&nbsp;(False Positive Rate)&nbsp;</span><span>= Fall-out</span> <font size=5 color=red><b> → </b></font></td>\n",
    "<td class=\"xl64\" style=\"border-top: none; border-left: none; width: 88px; box-sizing: border-box; border-bottom: 1px solid #8c8c8c; border-right: 1px solid #8c8c8c;\" width=\"181\"><b>FP/(FP+TN)</b></td>\n",
    "<td class=\"xl65\" style=\"border-top: none; border-left: none; width: 296px; border-bottom: 1px solid #8c8c8c; border-right: 1px solid #8c8c8c;\" width=\"294\"><span>실제 N인데 P로 예측</span></td>\n",
    "<td class=\"xl65\" style=\"border-top: none; border-left: none; width: 239px; border-bottom: 1px solid #8c8c8c; border-right: 1px solid #8c8c8c;\" colspan=\"1\" width=\"294\"><span>실제 정상 샘플을 악성으로 예측한 비율</span></td>\n",
    "</tr>\n",
    " \n",
    "<tr style=\"height: 15.0pt; box-sizing: border-box;\">\n",
    "<td class=\"xl64\" style=\"height: 35px; border-top: none; width: 154px; box-sizing: border-box; border-bottom: 1px solid #8c8c8c; border-right: 1px solid #8c8c8c; border-left: 1px solid #8c8c8c;\" width=\"294\" height=\"20\"><span>TNR</span><br><span>&nbsp;(True Negative Rate)</span> <font size=5 color=red><b> ← </b></font></td>\n",
    "<td class=\"xl64\" style=\"border-top: none; border-left: none; width: 88px; box-sizing: border-box; border-bottom: 1px solid #8c8c8c; border-right: 1px solid #8c8c8c; height: 35px;\" width=\"181\"><b>TN/(TN+FP)</b></td>\n",
    "<td class=\"xl65\" style=\"border-top: none; border-left: none; width: 296px; border-bottom: 1px solid #8c8c8c; border-right: 1px solid #8c8c8c; height: 35px;\" width=\"294\"><span>특이도 : 예측과 실제 모두 N</span></td>\n",
    "<td class=\"xl65\" style=\"border-top: none; border-left: none; width: 239px; border-bottom: 1px solid #8c8c8c; border-right: 1px solid #8c8c8c; height: 35px;\" colspan=\"1\" width=\"294\"><span>실제 정상 샘플을 정상으로 예측한 비율</span></td>\n",
    "</tr>\n",
    "    \n",
    "    \n",
    "<tr style=\"height: 15.0pt; box-sizing: border-box;\">\n",
    "<td class=\"xl64\" style=\"height: 15pt; border-top: none; width: 154px; box-sizing: border-box; border-right: 1px solid #8c8c8c; border-bottom: 1px solid #8c8c8c; border-left: 1px solid #8c8c8c;\" width=\"294\" height=\"20\">FNR<span>&nbsp;(False Negative Rate)</span> <font size=5 color=red><b> ←← </b></font></td>\n",
    "<td class=\"xl64\" style=\"border-top: none; border-left: none; width: 88px; box-sizing: border-box; border-right: 1px solid #8c8c8c; border-bottom: 1px solid #8c8c8c;\" width=\"181\"><b>FN/(TP+FN)</b></td>\n",
    "<td class=\"xl65\" style=\"border-top: none; border-left: none; width: 296px; border-bottom: 1px solid #8c8c8c; border-right: 1px solid #8c8c8c;\" width=\"294\"><span>실제 P인데 N으로 예측</span></td>\n",
    "<td class=\"xl65\" style=\"border-top: none; border-left: none; width: 239px; border-bottom: 1px solid #8c8c8c; border-right: 1px solid #8c8c8c;\" colspan=\"1\" width=\"294\"><span>실제 악성 샘플을 정상으로 예측한 비율</span></td>\n",
    "</tr>\n",
    "    \n",
    "\n",
    "</tbody>\n",
    "</table>"
   ]
  },
  {
   "cell_type": "markdown",
   "id": "4cbf141e-d444-4db6-9364-a48e83a63e96",
   "metadata": {},
   "source": [
    "## 이진분류(Binary Classsification)"
   ]
  },
  {
   "cell_type": "code",
   "execution_count": 15,
   "id": "76f3a2e4-b5d2-4b2f-a5ef-b5af719415b5",
   "metadata": {},
   "outputs": [
    {
     "name": "stdout",
     "output_type": "stream",
     "text": [
      "[[9 1]\n",
      " [2 4]]\n"
     ]
    }
   ],
   "source": [
    "y    = [0, 0, 0, 0, 0, 0, 0, 0, 0, 0, 1, 1, 1, 1, 1, 1]\n",
    "pred = [0, 0, 0, 0, 0, 0, 0, 0, 0, 1, 0, 0, 1, 1, 1, 1]\n",
    "# cm = np.array([[9,1], [2,4]])\n",
    "print(  confusion_matrix(y,  pred)  )\n",
    "# array([[9, 1],\n",
    "       # [2, 4]])"
   ]
  },
  {
   "cell_type": "code",
   "execution_count": 16,
   "id": "70f11ac3-deb1-4d5b-b145-c542186d0bf9",
   "metadata": {},
   "outputs": [
    {
     "name": "stdout",
     "output_type": "stream",
     "text": [
      "              precision    recall  f1-score   support\n",
      "\n",
      "           0       0.82      0.90      0.86        10\n",
      "           1       0.80      0.67      0.73         6\n",
      "\n",
      "    accuracy                           0.81        16\n",
      "   macro avg       0.81      0.78      0.79        16\n",
      "weighted avg       0.81      0.81      0.81        16\n",
      "\n"
     ]
    }
   ],
   "source": [
    "print( classification_report(y, pred) )"
   ]
  },
  {
   "cell_type": "code",
   "execution_count": 17,
   "id": "5deb2a7b-91e6-451c-aa93-c4a81ed9d129",
   "metadata": {},
   "outputs": [
    {
     "data": {
      "text/plain": [
       "(0.6666666666666666, 0.8, 0.1)"
      ]
     },
     "execution_count": 17,
     "metadata": {},
     "output_type": "execute_result"
    }
   ],
   "source": [
    "recall    = 4 / (2 + 4)\n",
    "precision = 4 / (1+4)\n",
    "fallout   = 1 / (9+1)\n",
    "recall, precision, fallout"
   ]
  },
  {
   "cell_type": "code",
   "execution_count": 18,
   "id": "2961f27a-93f7-4926-8c4f-5a579530c92e",
   "metadata": {},
   "outputs": [
    {
     "name": "stdout",
     "output_type": "stream",
     "text": [
      "precision:0.8000  recall:0.6667   f1:0.7273\n"
     ]
    }
   ],
   "source": [
    "precision = precision_score(y, pred)\n",
    "recall    = recall_score(y, pred)\n",
    "f1        = f1_score(y, pred)\n",
    "print(f\"precision:{precision:.4f}  recall:{recall:.4f}   f1:{f1:.4f}\")"
   ]
  },
  {
   "cell_type": "markdown",
   "id": "6a519a7c-beb1-4921-8e97-fdabd8d3ed92",
   "metadata": {},
   "source": [
    "## ROC AUC\n",
    "<img width=300 src=\"https://1.bp.blogspot.com/-cRcY8NBcFKg/XcDdlxe3y-I/AAAAAAAAAjE/LWpuRdpgZjEHjl-TAqJlVSz7LXh9hujWgCLcBGAsYHQ/s1600/roc_curve_python.png\">"
   ]
  },
  {
   "cell_type": "markdown",
   "id": "3c367707-717f-4b8a-ab55-8f253ca21a06",
   "metadata": {},
   "source": [
    "<pre>\n",
    "ROC_CURV() : 양성(P)에 대한 정답(T)/오답(F) 비율   \n",
    "ROC_AUC_SCORE() : ROC 커브 아래 면적값\n",
    "    \n",
    "specificity(특이도) \n",
    "    : TN / (TN + FP)\n",
    "\t: TNR(True Negative Rate)\n",
    "\t: 실제로 정상인데 예측이 정상\n",
    "\n",
    "X축 : FPR = 1 - 특이도(TNR)    FP / (TN+FP) =  P틀림/정상인(N전체)\n",
    "Y축 : TPR = 재현률(recall)     TP / (FN+TP) =  P맞춤/암환자(P전체)"
   ]
  },
  {
   "cell_type": "code",
   "execution_count": 19,
   "id": "7b2b24e7-40b2-48c0-9fd6-65740c9db43b",
   "metadata": {},
   "outputs": [],
   "source": [
    "from sklearn.metrics import roc_curve, roc_auc_score"
   ]
  },
  {
   "cell_type": "markdown",
   "id": "e17b2191-9fb5-434a-8899-a5b8829ab50f",
   "metadata": {},
   "source": [
    "```python\n",
    "sklearn.metrics.roc_curve(y_true, y_score, *, pos_label=None, sample_weight=None, drop_intermediate=True)[source]\n",
    "\n",
    "y_score : probability estimates of the positive class\n",
    "```"
   ]
  },
  {
   "cell_type": "code",
   "execution_count": 20,
   "id": "253ad654-f842-4a31-82cd-548ad6074c41",
   "metadata": {
    "scrolled": true
   },
   "outputs": [
    {
     "data": {
      "text/html": [
       "<div>\n",
       "<style scoped>\n",
       "    .dataframe tbody tr th:only-of-type {\n",
       "        vertical-align: middle;\n",
       "    }\n",
       "\n",
       "    .dataframe tbody tr th {\n",
       "        vertical-align: top;\n",
       "    }\n",
       "\n",
       "    .dataframe thead th {\n",
       "        text-align: right;\n",
       "    }\n",
       "</style>\n",
       "<table border=\"1\" class=\"dataframe\">\n",
       "  <thead>\n",
       "    <tr style=\"text-align: right;\">\n",
       "      <th></th>\n",
       "      <th>Pregnancies</th>\n",
       "      <th>Glucose</th>\n",
       "      <th>BloodPressure</th>\n",
       "      <th>SkinThickness</th>\n",
       "      <th>Insulin</th>\n",
       "      <th>BMI</th>\n",
       "      <th>DiabetesPedigreeFunction</th>\n",
       "      <th>Age</th>\n",
       "      <th>Outcome</th>\n",
       "    </tr>\n",
       "  </thead>\n",
       "  <tbody>\n",
       "    <tr>\n",
       "      <th>0</th>\n",
       "      <td>6</td>\n",
       "      <td>148</td>\n",
       "      <td>72</td>\n",
       "      <td>35</td>\n",
       "      <td>0</td>\n",
       "      <td>33.6</td>\n",
       "      <td>0.627</td>\n",
       "      <td>50</td>\n",
       "      <td>1</td>\n",
       "    </tr>\n",
       "    <tr>\n",
       "      <th>1</th>\n",
       "      <td>1</td>\n",
       "      <td>85</td>\n",
       "      <td>66</td>\n",
       "      <td>29</td>\n",
       "      <td>0</td>\n",
       "      <td>26.6</td>\n",
       "      <td>0.351</td>\n",
       "      <td>31</td>\n",
       "      <td>0</td>\n",
       "    </tr>\n",
       "    <tr>\n",
       "      <th>2</th>\n",
       "      <td>8</td>\n",
       "      <td>183</td>\n",
       "      <td>64</td>\n",
       "      <td>0</td>\n",
       "      <td>0</td>\n",
       "      <td>23.3</td>\n",
       "      <td>0.672</td>\n",
       "      <td>32</td>\n",
       "      <td>1</td>\n",
       "    </tr>\n",
       "    <tr>\n",
       "      <th>3</th>\n",
       "      <td>1</td>\n",
       "      <td>89</td>\n",
       "      <td>66</td>\n",
       "      <td>23</td>\n",
       "      <td>94</td>\n",
       "      <td>28.1</td>\n",
       "      <td>0.167</td>\n",
       "      <td>21</td>\n",
       "      <td>0</td>\n",
       "    </tr>\n",
       "    <tr>\n",
       "      <th>4</th>\n",
       "      <td>0</td>\n",
       "      <td>137</td>\n",
       "      <td>40</td>\n",
       "      <td>35</td>\n",
       "      <td>168</td>\n",
       "      <td>43.1</td>\n",
       "      <td>2.288</td>\n",
       "      <td>33</td>\n",
       "      <td>1</td>\n",
       "    </tr>\n",
       "  </tbody>\n",
       "</table>\n",
       "</div>"
      ],
      "text/plain": [
       "   Pregnancies  Glucose  BloodPressure  SkinThickness  Insulin   BMI  \\\n",
       "0            6      148             72             35        0  33.6   \n",
       "1            1       85             66             29        0  26.6   \n",
       "2            8      183             64              0        0  23.3   \n",
       "3            1       89             66             23       94  28.1   \n",
       "4            0      137             40             35      168  43.1   \n",
       "\n",
       "   DiabetesPedigreeFunction  Age  Outcome  \n",
       "0                     0.627   50        1  \n",
       "1                     0.351   31        0  \n",
       "2                     0.672   32        1  \n",
       "3                     0.167   21        0  \n",
       "4                     2.288   33        1  "
      ]
     },
     "execution_count": 20,
     "metadata": {},
     "output_type": "execute_result"
    }
   ],
   "source": [
    "df = pd.read_csv(\"./lec06.diabetes.csv\")\n",
    "df.head()"
   ]
  },
  {
   "cell_type": "markdown",
   "id": "b4ee5fc3-6a50-4981-a54e-5e8efa6bfe49",
   "metadata": {},
   "source": [
    "## 멀티분류(Multinomial Classsification)"
   ]
  },
  {
   "cell_type": "code",
   "execution_count": 21,
   "id": "d58b6c5f-0620-445d-944b-e28ae5b14691",
   "metadata": {},
   "outputs": [
    {
     "name": "stdout",
     "output_type": "stream",
     "text": [
      "[[2 0 0]\n",
      " [1 3 0]\n",
      " [0 1 1]]\n"
     ]
    }
   ],
   "source": [
    "y    = [0, 0, 1, 1, 1, 1, 2, 2]\n",
    "pred = [0, 0, 0, 1, 1, 1, 1, 2]\n",
    "print(  confusion_matrix(y,  pred)  )"
   ]
  },
  {
   "cell_type": "code",
   "execution_count": 22,
   "id": "268b8fe3-04da-42e3-a5cf-32656cf50da8",
   "metadata": {},
   "outputs": [
    {
     "name": "stdout",
     "output_type": "stream",
     "text": [
      "              precision    recall  f1-score   support\n",
      "\n",
      "           0       0.67      1.00      0.80         2\n",
      "           1       0.75      0.75      0.75         4\n",
      "           2       1.00      0.50      0.67         2\n",
      "\n",
      "    accuracy                           0.75         8\n",
      "   macro avg       0.81      0.75      0.74         8\n",
      "weighted avg       0.79      0.75      0.74         8\n",
      "\n"
     ]
    }
   ],
   "source": [
    "print( classification_report(y, pred) )"
   ]
  },
  {
   "cell_type": "code",
   "execution_count": 23,
   "id": "0c616689-5dfc-479d-a720-f9df5ce6f5b0",
   "metadata": {},
   "outputs": [
    {
     "name": "stdout",
     "output_type": "stream",
     "text": [
      "precision:0.8056  recall:0.7500   f1:0.7389\n"
     ]
    }
   ],
   "source": [
    "precision = precision_score(y, pred , average=\"macro\")\n",
    "recall    = recall_score(y, pred    , average=\"macro\")\n",
    "f1        = f1_score(y, pred        , average=\"macro\")\n",
    "print(f\"precision:{precision:.4f}  recall:{recall:.4f}   f1:{f1:.4f}\")"
   ]
  },
  {
   "cell_type": "code",
   "execution_count": 24,
   "id": "1a6a2ff6-1b20-4999-b06f-5d15fb40637c",
   "metadata": {},
   "outputs": [
    {
     "data": {
      "text/plain": [
       "0.75"
      ]
     },
     "execution_count": 24,
     "metadata": {},
     "output_type": "execute_result"
    }
   ],
   "source": [
    "(1+0.75+0.5) / 3"
   ]
  },
  {
   "cell_type": "code",
   "execution_count": 25,
   "id": "3518564f-c40f-491f-9709-06a72264e180",
   "metadata": {},
   "outputs": [
    {
     "name": "stdout",
     "output_type": "stream",
     "text": [
      "precision:0.7500  recall:0.7500   f1:0.7500\n"
     ]
    }
   ],
   "source": [
    "precision = precision_score(y, pred , average=\"micro\")\n",
    "recall    = recall_score(y, pred    , average=\"micro\")\n",
    "f1        = f1_score(y, pred        , average=\"micro\")\n",
    "print(f\"precision:{precision:.4f}  recall:{recall:.4f}   f1:{f1:.4f}\")"
   ]
  },
  {
   "cell_type": "markdown",
   "id": "a7fc32cb-323f-4abc-9980-798d7e3941d3",
   "metadata": {},
   "source": [
    "### macro vs. micro"
   ]
  },
  {
   "cell_type": "markdown",
   "id": "0d0b1a91-3652-496d-9ddd-920272b2b6fc",
   "metadata": {},
   "source": [
    "<img src=\"https://euriion.com/wp-content/uploads/2023/08/image-19.png\">"
   ]
  },
  {
   "cell_type": "code",
   "execution_count": 26,
   "id": "c73c73a3-3b50-4f6c-ac31-fba17e29dbe0",
   "metadata": {
    "scrolled": true
   },
   "outputs": [
    {
     "name": "stdout",
     "output_type": "stream",
     "text": [
      "[[4 1 1]\n",
      " [6 2 2]\n",
      " [3 0 6]]\n",
      "              precision    recall  f1-score   support\n",
      "\n",
      "           0       0.31      0.67      0.42         6\n",
      "           1       0.67      0.20      0.31        10\n",
      "           2       0.67      0.67      0.67         9\n",
      "\n",
      "    accuracy                           0.48        25\n",
      "   macro avg       0.55      0.51      0.47        25\n",
      "weighted avg       0.58      0.48      0.46        25\n",
      "\n"
     ]
    }
   ],
   "source": [
    "y    = [0,0,0,0,0,0, 1,1,1,1,1,1,1,1,1,1,  2,2,2,2,2,2,2,2,2 ]\n",
    "pred = [0,0,0,0,1,2, 0,0,0,0,0,0,1,1,2,2,  0,0,0,2,2,2,2,2,2 ]\n",
    "print(  confusion_matrix(y,  pred)  )\n",
    "print( classification_report(y, pred) )"
   ]
  },
  {
   "cell_type": "code",
   "execution_count": 27,
   "id": "6920c287-e766-4543-94c4-fff46eaa202f",
   "metadata": {},
   "outputs": [
    {
     "name": "stdout",
     "output_type": "stream",
     "text": [
      "precision:0.4800  recall:0.4800   f1:0.4800\n"
     ]
    }
   ],
   "source": [
    "precision = precision_score(y, pred , average=\"micro\")\n",
    "recall    = recall_score(y, pred    , average=\"micro\")\n",
    "f1        = f1_score(y, pred        , average=\"micro\")\n",
    "print(f\"precision:{precision:.4f}  recall:{recall:.4f}   f1:{f1:.4f}\")"
   ]
  },
  {
   "cell_type": "code",
   "execution_count": 28,
   "id": "f75629d7-83b5-4f9f-b8cb-a930c3b6d3ed",
   "metadata": {},
   "outputs": [
    {
     "name": "stdout",
     "output_type": "stream",
     "text": [
      "[[4 1 1]\n",
      " [6 2 2]\n",
      " [3 0 6]]\n"
     ]
    }
   ],
   "source": [
    "print(  confusion_matrix(y,  pred)  )"
   ]
  },
  {
   "cell_type": "code",
   "execution_count": 29,
   "id": "8dfa4ba6-db95-465c-973b-5e65de1baf99",
   "metadata": {},
   "outputs": [
    {
     "name": "stdout",
     "output_type": "stream",
     "text": [
      "12 13\n",
      "0.48\n"
     ]
    }
   ],
   "source": [
    "# micro precision\n",
    "TP = 4+2+6         #12\n",
    "FP = 6+3+1+0+1+2   #13\n",
    "print( TP, FP )\n",
    "print( TP/(TP+FP) )"
   ]
  },
  {
   "cell_type": "code",
   "execution_count": 30,
   "id": "5db017f5-0120-4b5c-b6a6-5dd5cc2c46dd",
   "metadata": {},
   "outputs": [
    {
     "name": "stdout",
     "output_type": "stream",
     "text": [
      "precision:0.5470  recall:0.5111   f1:0.4651\n"
     ]
    }
   ],
   "source": [
    "precision = precision_score(y, pred , average=\"macro\")\n",
    "recall    = recall_score(y, pred    , average=\"macro\")\n",
    "f1        = f1_score(y, pred        , average=\"macro\")\n",
    "print(f\"precision:{precision:.4f}  recall:{recall:.4f}   f1:{f1:.4f}\")"
   ]
  },
  {
   "cell_type": "code",
   "execution_count": 31,
   "id": "3d0c4f5a-dbbc-432a-bad5-6eab795d24e7",
   "metadata": {},
   "outputs": [
    {
     "data": {
      "text/plain": [
       "0.5499999999999999"
      ]
     },
     "execution_count": 31,
     "metadata": {},
     "output_type": "execute_result"
    }
   ],
   "source": [
    "# macro precision\n",
    "(0.31+0.67+0.67)/3"
   ]
  },
  {
   "cell_type": "markdown",
   "id": "cd1a0f15-9cad-4696-887c-39e6fafcb9e3",
   "metadata": {},
   "source": [
    "## ROC AUC\n",
    "<img width=300 src=\"https://1.bp.blogspot.com/-cRcY8NBcFKg/XcDdlxe3y-I/AAAAAAAAAjE/LWpuRdpgZjEHjl-TAqJlVSz7LXh9hujWgCLcBGAsYHQ/s1600/roc_curve_python.png\">"
   ]
  },
  {
   "cell_type": "markdown",
   "id": "438bed98-83e2-4bb4-bd26-0adf48ee19a2",
   "metadata": {},
   "source": [
    "<pre>\n",
    "ROC_CURV() : 양성(P)에 대한 정답(T)/오답(F) 비율   \n",
    "ROC_AUC_SCORE() : ROC 커브 아래 면적값\n",
    "    \n",
    "specificity(특이도) \n",
    "    : TN / (TN + FP)\n",
    "\t: TNR(True Negative Rate)\n",
    "\t: 실제로 정상인데 예측이 정상\n",
    "\n",
    "X축 : FPR = 1 - 특이도(TNR)    FP / (TN+FP) =  P틀림/정상인(N전체)\n",
    "Y축 : TPR = 재현률(recall)     TP / (FN+TP) =  P맞춤/암환자(P전체)"
   ]
  },
  {
   "cell_type": "code",
   "execution_count": 32,
   "id": "d5fe53b8-6e34-4e8a-abd3-cd8da19416dc",
   "metadata": {},
   "outputs": [],
   "source": [
    "from sklearn.metrics import roc_curve, roc_auc_score"
   ]
  },
  {
   "cell_type": "markdown",
   "id": "846a6654-6c89-4261-84b2-4021e0f5d2b4",
   "metadata": {},
   "source": [
    "```python\n",
    "sklearn.metrics.roc_curve(y_true, y_score, *, pos_label=None, sample_weight=None, drop_intermediate=True)[source]\n",
    "\n",
    "y_score : probability estimates of the positive class\n",
    "```"
   ]
  },
  {
   "cell_type": "code",
   "execution_count": 33,
   "id": "e5ce0429-bca2-4772-a524-f25f0274c679",
   "metadata": {
    "scrolled": true
   },
   "outputs": [
    {
     "name": "stdout",
     "output_type": "stream",
     "text": [
      "[1 0 1]\n",
      "[[2.18559132e-02 9.41590563e-01 3.65535237e-02]\n",
      " [9.63727163e-01 3.62726337e-02 2.03141912e-07]\n",
      " [2.46210278e-02 9.21881822e-01 5.34971505e-02]]\n"
     ]
    }
   ],
   "source": [
    "from sklearn.linear_model import LogisticRegression\n",
    "model = LogisticRegression(random_state=11)\n",
    "model.fit( X_train문제지8,   y_train답안지8  )   # 학습 : 문제지 답지\n",
    "pred = model.predict( X_test문제지2)  \n",
    "proba = model.predict_proba(X_test문제지2)  \n",
    "print( pred[:3]  )\n",
    "print( proba[:3] )"
   ]
  },
  {
   "cell_type": "code",
   "execution_count": 36,
   "id": "260e8cc6-dc6a-4268-a96a-54f936a122e7",
   "metadata": {
    "scrolled": true
   },
   "outputs": [
    {
     "data": {
      "image/png": "[encoded data removed]",
      "text/plain": [
       "<Figure size 400x200 with 1 Axes>"
      ]
     },
     "metadata": {},
     "output_type": "display_data"
    }
   ],
   "source": [
    "model = LogisticRegression().fit(X_train문제지8,   y_train답안지8)\n",
    "pred = model.predict(X_test문제지2)\n",
    "proba = model.predict_proba(X_test문제지2)\n",
    "#fval = model.decision_function(X_test문제지2)\n",
    "#print(pred.shape, fval.shape)\n",
    "\n",
    "# roc curve for classes\n",
    "fpr = {}\n",
    "tpr = {}\n",
    "th  = {}\n",
    "\n",
    "n_class = 3\n",
    "for i in range(n_class):    \n",
    "    fpr[i], tpr[i], th[i] = roc_curve(y_test답안지2, proba[:,i], pos_label=i)\n",
    "\n",
    "# plotting    \n",
    "plt.figure(figsize=(4,2))\n",
    "plt.plot(fpr[0], tpr[0], linestyle='--',color='orange', label='Class 0 vs Rest')\n",
    "plt.plot(fpr[1], tpr[1], linestyle='--',color='green' , label='Class 1 vs Rest')\n",
    "plt.plot(fpr[2], tpr[2], linestyle='--',color='blue'  , label='Class 2 vs Rest')\n",
    "plt.title('Multiclass ROC curve')\n",
    "plt.xlabel('FPR')\n",
    "plt.ylabel('TPR=1-TNR')\n",
    "plt.legend()\n",
    "plt.show()"
   ]
  },
  {
   "cell_type": "markdown",
   "id": "9ab1dff8-52e6-4ae9-a89f-f3a393f9f746",
   "metadata": {},
   "source": [
    "```python\n",
    "sklearn.metrics.roc_auc_score(y_true, y_score, *, average='macro', sample_weight=None, max_fpr=None, multi_class='raise', labels=None)[source]¶\n",
    "```"
   ]
  },
  {
   "cell_type": "code",
   "execution_count": 41,
   "id": "8d25cf08-b95f-4d0d-9a38-c601e2f4310e",
   "metadata": {},
   "outputs": [
    {
     "data": {
      "text/plain": [
       "array([[2.18559132e-02, 9.41590563e-01, 3.65535237e-02],\n",
       "       [9.63727163e-01, 3.62726337e-02, 2.03141912e-07]])"
      ]
     },
     "execution_count": 41,
     "metadata": {},
     "output_type": "execute_result"
    }
   ],
   "source": [
    "proba[:2]"
   ]
  },
  {
   "cell_type": "code",
   "execution_count": 39,
   "id": "a2eb1d66-1353-4bdd-9b7c-720b6ab8fab8",
   "metadata": {},
   "outputs": [
    {
     "data": {
      "text/plain": [
       "0.9967948717948718"
      ]
     },
     "execution_count": 39,
     "metadata": {},
     "output_type": "execute_result"
    }
   ],
   "source": [
    "roc_auc_score(y_test답안지2, proba, multi_class='ovo')"
   ]
  },
  {
   "cell_type": "code",
   "execution_count": 40,
   "id": "fe6d0245-fa5a-4892-b9a5-88820c18145c",
   "metadata": {},
   "outputs": [
    {
     "data": {
      "text/plain": [
       "0.9965977649801179"
      ]
     },
     "execution_count": 40,
     "metadata": {},
     "output_type": "execute_result"
    }
   ],
   "source": [
    "roc_auc_score(y_test답안지2, proba, multi_class='ovr')"
   ]
  }
 ],
 "metadata": {
  "kernelspec": {
   "display_name": "Python 3 (ipykernel)",
   "language": "python",
   "name": "python3"
  },
  "language_info": {
   "codemirror_mode": {
    "name": "ipython",
    "version": 3
   },
   "file_extension": ".py",
   "mimetype": "text/x-python",
   "name": "python",
   "nbconvert_exporter": "python",
   "pygments_lexer": "ipython3",
   "version": "3.8.8"
  }
 },
 "nbformat": 4,
 "nbformat_minor": 5
}
